{
 "cells": [
  {
   "cell_type": "markdown",
   "metadata": {},
   "source": [
    "## Data preparation to use the final dataset"
   ]
  },
  {
   "cell_type": "code",
   "execution_count": null,
   "metadata": {},
   "outputs": [],
   "source": [
    "import pandas as pd"
   ]
  },
  {
   "cell_type": "code",
   "execution_count": null,
   "metadata": {},
   "outputs": [],
   "source": [
    "df_1 = pd.read_csv(\"./historical_stock_prices.csv\")\n",
    "df_2 = pd.read_csv(\"./historical_stocks.csv\")"
   ]
  },
  {
   "cell_type": "code",
   "execution_count": null,
   "metadata": {},
   "outputs": [],
   "source": [
    "df_1['year'] = pd.to_datetime(df_1['date']).dt.year"
   ]
  },
  {
   "cell_type": "code",
   "execution_count": null,
   "metadata": {},
   "outputs": [],
   "source": [
    "df_1 = df_1.drop(\"adj_close\", axis=1)"
   ]
  },
  {
   "cell_type": "code",
   "execution_count": null,
   "metadata": {},
   "outputs": [],
   "source": [
    "merged_df = pd.merge(df_1, df_2, on='ticker')"
   ]
  },
  {
   "cell_type": "code",
   "execution_count": null,
   "metadata": {},
   "outputs": [],
   "source": [
    "df = merged_df.sort_values(by=['ticker', 'date'])"
   ]
  },
  {
   "cell_type": "code",
   "execution_count": null,
   "metadata": {},
   "outputs": [],
   "source": [
    "df.to_csv(\"historical_stock_prices_final.csv\", index=False)"
   ]
  },
  {
   "cell_type": "markdown",
   "metadata": {},
   "source": [
    "## Create new csv files with a lot of rows for the final tests"
   ]
  },
  {
   "cell_type": "markdown",
   "metadata": {},
   "source": [
    "### Create csv file with 50% more lines"
   ]
  },
  {
   "cell_type": "code",
   "execution_count": null,
   "metadata": {},
   "outputs": [],
   "source": [
    "file_path = 'historical_stock_prices_final.csv'\n",
    "\n",
    "# Calcolare il numero di righe da aggiungere per ciascun file\n",
    "num_righe_originali = len(df)\n",
    "num_righe_da_aggiungere_1 = num_righe_originali // 2\n",
    "\n",
    "# Selezionare casualmente le righe da aggiungere\n",
    "righe_aggiuntive_1 = df.sample(n=num_righe_da_aggiungere_1, replace=True, random_state=42)"
   ]
  },
  {
   "cell_type": "code",
   "execution_count": null,
   "metadata": {},
   "outputs": [],
   "source": [
    "df_nuovo_1 = pd.concat([df, righe_aggiuntive_1], ignore_index=True)"
   ]
  },
  {
   "cell_type": "code",
   "execution_count": null,
   "metadata": {},
   "outputs": [],
   "source": [
    "new_file_path_1 = './csv_files/historical_stock_prices_50_percent.csv'\n",
    "\n",
    "df_nuovo_1.to_csv(new_file_path_1, index=False)\n",
    "\n",
    "print(f'File CSV aumentato del 50% creato')"
   ]
  },
  {
   "cell_type": "markdown",
   "metadata": {},
   "source": [
    "### Create csv file with 100% more lines"
   ]
  },
  {
   "cell_type": "code",
   "execution_count": null,
   "metadata": {},
   "outputs": [],
   "source": [
    "num_righe_originali = len(df)\n",
    "num_righe_da_aggiungere_2 = num_righe_originali\n",
    "\n",
    "righe_aggiuntive_2 = df.sample(n=num_righe_da_aggiungere_2, replace=True, random_state=42)"
   ]
  },
  {
   "cell_type": "code",
   "execution_count": null,
   "metadata": {},
   "outputs": [],
   "source": [
    "df_nuovo_2 = pd.concat([df, righe_aggiuntive_2], ignore_index=True)"
   ]
  },
  {
   "cell_type": "code",
   "execution_count": null,
   "metadata": {},
   "outputs": [],
   "source": [
    "new_file_path_2 = './csv_files/historical_stock_prices_100_percent.csv'\n",
    "\n",
    "df_nuovo_2.to_csv(new_file_path_2, index=False)\n",
    "\n",
    "print(f'File CSV aumentato del 100% creato')"
   ]
  }
 ],
 "metadata": {
  "language_info": {
   "name": "python"
  }
 },
 "nbformat": 4,
 "nbformat_minor": 2
}
